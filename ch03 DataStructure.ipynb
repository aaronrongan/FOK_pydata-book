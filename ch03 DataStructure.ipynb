{
 "cells": [
  {
   "cell_type": "markdown",
   "id": "4470ee4f-5123-4dd3-9427-26887cb144a6",
   "metadata": {},
   "source": []
  },
  {
   "cell_type": "code",
   "execution_count": null,
   "id": "ac1cdb03-7e65-47c0-8f33-43dab8fd2f59",
   "metadata": {},
   "outputs": [],
   "source": []
  },
  {
   "cell_type": "markdown",
   "id": "07ad28c5-59ce-4942-8bbb-0787ec2d19d6",
   "metadata": {},
   "source": []
  },
  {
   "cell_type": "code",
   "execution_count": null,
   "id": "da79a694-ebee-4b32-b9e3-e87467231ce8",
   "metadata": {},
   "outputs": [],
   "source": []
  },
  {
   "cell_type": "markdown",
   "id": "a17b54b9-d7d9-4649-bf8e-e568eaae0e00",
   "metadata": {},
   "source": []
  },
  {
   "cell_type": "code",
   "execution_count": null,
   "id": "12786e00-7923-4708-ad10-8ccc0ff27d75",
   "metadata": {},
   "outputs": [],
   "source": []
  },
  {
   "cell_type": "markdown",
   "id": "f6212de9-c403-4b22-af9d-1751f10cd54f",
   "metadata": {},
   "source": []
  },
  {
   "cell_type": "markdown",
   "id": "84aa0489-a34e-45c1-abe9-81640e1d2c36",
   "metadata": {},
   "source": []
  },
  {
   "cell_type": "code",
   "execution_count": null,
   "id": "0f213713-48ce-4a96-b688-c3cbf3c051e7",
   "metadata": {},
   "outputs": [],
   "source": []
  },
  {
   "cell_type": "markdown",
   "id": "c11acab5-500e-4b6c-a7d9-b9fb01721a6e",
   "metadata": {},
   "source": []
  },
  {
   "cell_type": "code",
   "execution_count": null,
   "id": "87f817cd-c5d5-42b7-bd84-e6b22b626527",
   "metadata": {},
   "outputs": [],
   "source": []
  },
  {
   "cell_type": "code",
   "execution_count": null,
   "id": "974c447e-469b-4a48-a3ed-dbf570326ed7",
   "metadata": {
    "tags": []
   },
   "outputs": [],
   "source": []
  },
  {
   "cell_type": "markdown",
   "id": "87321dc9-3d69-4729-800f-62fb7d6df735",
   "metadata": {},
   "source": []
  },
  {
   "cell_type": "code",
   "execution_count": null,
   "id": "3f4f055c-d48d-4406-a3c1-fdb18aae7834",
   "metadata": {},
   "outputs": [],
   "source": []
  },
  {
   "cell_type": "markdown",
   "id": "42ee0ca9-4a84-4f74-8144-9050f2f03966",
   "metadata": {},
   "source": []
  },
  {
   "cell_type": "code",
   "execution_count": null,
   "id": "11dbe028-24c9-4bee-8ca5-2737432bbef4",
   "metadata": {},
   "outputs": [],
   "source": []
  },
  {
   "cell_type": "markdown",
   "id": "a952f791-d13c-432b-9f95-4e39f99c5641",
   "metadata": {},
   "source": []
  },
  {
   "cell_type": "code",
   "execution_count": null,
   "id": "c6422541-a216-48ea-9d5e-d1355342f5f0",
   "metadata": {},
   "outputs": [],
   "source": []
  },
  {
   "cell_type": "markdown",
   "id": "f626f5fb-b6c7-4bd4-9ce6-0a10994f1829",
   "metadata": {},
   "source": []
  },
  {
   "cell_type": "code",
   "execution_count": null,
   "id": "1a0234eb-18d6-4548-85f7-b11ac343108c",
   "metadata": {},
   "outputs": [],
   "source": []
  }
 ],
 "metadata": {
  "kernelspec": {
   "display_name": "Python 3 (ipykernel)",
   "language": "python",
   "name": "python3"
  },
  "language_info": {
   "codemirror_mode": {
    "name": "ipython",
    "version": 3
   },
   "file_extension": ".py",
   "mimetype": "text/x-python",
   "name": "python",
   "nbconvert_exporter": "python",
   "pygments_lexer": "ipython3",
   "version": "3.8.10"
  }
 },
 "nbformat": 4,
 "nbformat_minor": 5
}
